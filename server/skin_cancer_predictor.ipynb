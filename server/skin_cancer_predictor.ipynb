{
 "cells": [
  {
   "cell_type": "markdown",
   "id": "9db922c8",
   "metadata": {},
   "source": [
    "Restructure Dataset"
   ]
  },
  {
   "cell_type": "code",
   "execution_count": null,
   "id": "ae51b4e4",
   "metadata": {},
   "outputs": [],
   "source": [
    "import os\n",
    "import shutil\n",
    "from pathlib import Path\n",
    "\n",
    "original_path = Path(\"Skin_Data\")\n",
    "new_base = Path(\"restructured_data\")\n",
    "train_path = new_base / \"train\"\n",
    "val_path = new_base / \"val\"\n",
    "\n",
    "# Create new directories\n",
    "for cls in [\"Cancer\", \"Non_Cancer\"]:\n",
    "    os.makedirs(train_path / cls, exist_ok=True)\n",
    "    os.makedirs(val_path / cls, exist_ok=True)\n",
    "    \n",
    "    # Move training images\n",
    "    train_imgs = list((original_path / cls / \"Training\").glob(\"*.JPG\"))\n",
    "    for img in train_imgs:\n",
    "        shutil.copy(img, train_path / cls / img.name)\n",
    "\n",
    "    # Move testing images\n",
    "    test_imgs = list((original_path / cls / \"Testing\").glob(\"*.JPG\"))\n",
    "    for img in test_imgs:\n",
    "        shutil.copy(img, val_path / cls / img.name)\n",
    "\n",
    "print(\"✅ Dataset Restructured!\")\n"
   ]
  },
  {
   "cell_type": "markdown",
   "id": "156ac491",
   "metadata": {},
   "source": [
    "Image Generators for Training and Validation"
   ]
  },
  {
   "cell_type": "code",
   "execution_count": null,
   "id": "81117c2f",
   "metadata": {},
   "outputs": [],
   "source": [
    "from tensorflow.keras.preprocessing.image import ImageDataGenerator\n",
    "\n",
    "img_size = (224, 224)\n",
    "batch_size = 32\n",
    "\n",
    "datagen = ImageDataGenerator(rescale=1./255)\n",
    "\n",
    "train_gen = datagen.flow_from_directory(\n",
    "    directory=str(train_path),\n",
    "    target_size=img_size,\n",
    "    batch_size=batch_size,\n",
    "    class_mode='binary'\n",
    ")\n",
    "\n",
    "val_gen = datagen.flow_from_directory(\n",
    "    directory=str(val_path),\n",
    "    target_size=img_size,\n",
    "    batch_size=batch_size,\n",
    "    class_mode='binary'\n",
    ")\n"
   ]
  },
  {
   "cell_type": "markdown",
   "id": "db614afb",
   "metadata": {},
   "source": [
    "Build the CNN Model (Using MobileNetV2)"
   ]
  },
  {
   "cell_type": "code",
   "execution_count": null,
   "id": "60bb29fb",
   "metadata": {},
   "outputs": [],
   "source": [
    "from tensorflow.keras.applications import MobileNetV2\n",
    "from tensorflow.keras.models import Model\n",
    "from tensorflow.keras.layers import GlobalAveragePooling2D, Dropout, Dense\n",
    "\n",
    "base_model = MobileNetV2(input_shape=img_size + (3,), include_top=False, weights='imagenet')\n",
    "base_model.trainable = False  # Freeze base model\n",
    "\n",
    "x = base_model.output\n",
    "x = GlobalAveragePooling2D()(x)\n",
    "x = Dropout(0.3)(x)\n",
    "output = Dense(1, activation='sigmoid')(x)\n",
    "\n",
    "model = Model(inputs=base_model.input, outputs=output)\n",
    "model.compile(optimizer='adam', loss='binary_crossentropy', metrics=['accuracy'])\n",
    "model.summary()\n"
   ]
  },
  {
   "cell_type": "markdown",
   "id": "041d1405",
   "metadata": {},
   "source": [
    "Train the Model"
   ]
  },
  {
   "cell_type": "code",
   "execution_count": null,
   "id": "0de50c8c",
   "metadata": {},
   "outputs": [],
   "source": [
    "history = model.fit(\n",
    "    train_gen,\n",
    "    validation_data=val_gen,\n",
    "    epochs=10\n",
    ")"
   ]
  },
  {
   "cell_type": "markdown",
   "id": "7cd7afcb",
   "metadata": {},
   "source": [
    "Visualize Accuracy and Loss"
   ]
  },
  {
   "cell_type": "code",
   "execution_count": null,
   "id": "725b03c3",
   "metadata": {},
   "outputs": [],
   "source": [
    "import matplotlib.pyplot as plt\n",
    "\n",
    "# Plot Accuracy\n",
    "plt.plot(history.history['accuracy'], label='Train Accuracy')\n",
    "plt.plot(history.history['val_accuracy'], label='Validation Accuracy')\n",
    "plt.title('Model Accuracy')\n",
    "plt.xlabel('Epoch')\n",
    "plt.ylabel('Accuracy')\n",
    "plt.legend()\n",
    "plt.show()\n",
    "\n",
    "# Plot Loss\n",
    "plt.plot(history.history['loss'], label='Train Loss')\n",
    "plt.plot(history.history['val_loss'], label='Validation Loss')\n",
    "plt.title('Model Loss')\n",
    "plt.xlabel('Epoch')\n",
    "plt.ylabel('Loss')\n",
    "plt.legend()\n",
    "plt.show()\n"
   ]
  },
  {
   "cell_type": "markdown",
   "id": "ea0ea8c3",
   "metadata": {},
   "source": [
    "Predict on a New Image"
   ]
  },
  {
   "cell_type": "code",
   "execution_count": null,
   "id": "df427b5a",
   "metadata": {},
   "outputs": [],
   "source": [
    "import tensorflow as tf\n",
    "from tensorflow.keras.preprocessing import image\n",
    "import numpy as np\n",
    "import matplotlib.pyplot as plt\n",
    "\n",
    "def predict_image(img_path):\n",
    "    img = image.load_img(img_path, target_size=img_size)\n",
    "    img_array = image.img_to_array(img)\n",
    "    img_array = tf.expand_dims(img_array, 0) / 255.0  # Normalize\n",
    "\n",
    "    prediction = model.predict(img_array)[0][0]\n",
    "    confidence = prediction * 100\n",
    "\n",
    "    # Show image\n",
    "    plt.imshow(img)\n",
    "    plt.axis('off')\n",
    "    plt.title(f\"Prediction: {'Cancer' if prediction > 0.5 else 'Non-Cancer'}\\nConfidence: {confidence:.2f}%\")\n",
    "    plt.show()\n",
    "\n",
    "    print(f\"🔍 Prediction Confidence: {confidence:.2f}%\")\n",
    "    print(\"⚠️ Malignant (Cancer)\" if prediction > 0.5 else \"✅ Benign (Non-Cancer)\")\n",
    "\n",
    "# Example:\n",
    "predict_image(\"test.jpg\")  # Replace with your test image"
   ]
  },
  {
   "cell_type": "markdown",
   "id": "eaadb50f",
   "metadata": {},
   "source": [
    "Predict on a New Image"
   ]
  },
  {
   "cell_type": "code",
   "execution_count": null,
   "id": "aad3b0d5",
   "metadata": {},
   "outputs": [],
   "source": [
    "model.save(\"skin_cancer_model.h5\")\n",
    "print(\"💾 Model saved as skin_cancer_model.h5\")"
   ]
  }
 ],
 "metadata": {
  "kernelspec": {
   "display_name": "Python 3",
   "language": "python",
   "name": "python3"
  },
  "language_info": {
   "codemirror_mode": {
    "name": "ipython",
    "version": 3
   },
   "file_extension": ".py",
   "mimetype": "text/x-python",
   "name": "python",
   "nbconvert_exporter": "python",
   "pygments_lexer": "ipython3",
   "version": "3.9.21"
  }
 },
 "nbformat": 4,
 "nbformat_minor": 5
}
